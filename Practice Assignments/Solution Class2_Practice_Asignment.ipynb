{
 "cells": [
  {
   "cell_type": "markdown",
   "id": "f6519aad",
   "metadata": {
    "id": "f6519aad"
   },
   "source": [
    "# User input"
   ]
  },
  {
   "cell_type": "raw",
   "id": "948191fe",
   "metadata": {
    "id": "948191fe"
   },
   "source": [
    "1. Take a sentence input from user using input function. Count occurence of a particular character/word in the sentence and print the message that the character appear this many times in the sentence.\n",
    "Like if user inputs> \"My name is Sana. I am an undergraduate student. I am learning Artificial Intellegence in PIAIC\"\n",
    "Your output should be:\n",
    "    I appears 5 times in your sentence\n",
    "Hint: nahi batounga use string methods.\n",
    "Note: Sana is a boy. His full name is SanaUllah😄"
   ]
  },
  {
   "cell_type": "code",
   "execution_count": 1,
   "id": "W0HI6wPh4hkt",
   "metadata": {
    "colab": {
     "base_uri": "https://localhost:8080/"
    },
    "id": "W0HI6wPh4hkt",
    "outputId": "b7ed314b-3916-4e61-eafc-257165e7b793"
   },
   "outputs": [
    {
     "name": "stdout",
     "output_type": "stream",
     "text": [
      "Enter Sentence : My name is Essa. I am a FullStack Developer\n",
      "['My', 'name', 'is', 'Essa', '', 'I', 'am', 'a', 'FullStack', 'Developer']\n",
      "['My', 'name', 'is', 'Essa', '', 'I', 'am', 'a', 'FullStack', 'Developer']\n",
      "My : is appears 1 times in your sentence\n",
      "name : is appears 1 times in your sentence\n",
      "is : is appears 1 times in your sentence\n",
      "Essa : is appears 1 times in your sentence\n",
      " : is appears 1 times in your sentence\n",
      "I : is appears 1 times in your sentence\n",
      "am : is appears 1 times in your sentence\n",
      "a : is appears 1 times in your sentence\n",
      "FullStack : is appears 1 times in your sentence\n",
      "Developer : is appears 1 times in your sentence\n"
     ]
    }
   ],
   "source": [
    "Sentence = input(\"Enter Sentence : \")\n",
    "#input Sentence in List\n",
    "List_sentence = Sentence.replace('.',' ').split(' ')\n",
    "\n",
    "# Assigning New List for Unique Value in sentance\n",
    "New_List = []\n",
    "[New_List.append(x) for x in List_sentence if x not in New_List]\n",
    "\n",
    "#Print Both List\n",
    "print(List_sentence)\n",
    "print(New_List)\n",
    "\n",
    "#Comparsion both List\n",
    "for item in New_List:\n",
    "  count = 0\n",
    "  for items in List_sentence:\n",
    "    if item == items:\n",
    "        count = count+1\n",
    "  print(f'{item} : is appears {count} times in your sentence')"
   ]
  },
  {
   "cell_type": "raw",
   "id": "bf6c3672",
   "metadata": {
    "id": "bf6c3672"
   },
   "source": [
    "2. Take a number input from user and print the square of that number. \n",
    "\n",
    "if a user inputs 10 Your output should be like:\n",
    "    The square of 10 is 100\n",
    "if a user inputs 5 Your output should be like:\n",
    "    The square of 5 is 25\n",
    "if a user inputs 2 Your output should be like:\n",
    "    The square of 2 is 4\n"
   ]
  },
  {
   "cell_type": "code",
   "execution_count": 2,
   "id": "d1627932",
   "metadata": {},
   "outputs": [
    {
     "name": "stdout",
     "output_type": "stream",
     "text": [
      "25\n"
     ]
    }
   ],
   "source": [
    "n = 5\n",
    "result = n ** 2\n",
    "print(result)"
   ]
  },
  {
   "cell_type": "code",
   "execution_count": 4,
   "id": "BOO9apKR4ilZ",
   "metadata": {
    "colab": {
     "base_uri": "https://localhost:8080/"
    },
    "id": "BOO9apKR4ilZ",
    "outputId": "f4b8cfab-dca0-4a50-ca38-7716ae4831d6"
   },
   "outputs": [
    {
     "name": "stdout",
     "output_type": "stream",
     "text": [
      "Enter an integer number: 11\n",
      "User inputs 11 Your output should be like: The square of 11 is 121\n"
     ]
    }
   ],
   "source": [
    "digit = int(input(\"Enter an integer number: \"))\n",
    "\n",
    "square = digit**2\n",
    "\n",
    "print(f\"User inputs {digit} Your output should be like: The square of {digit} is {square}\")"
   ]
  },
  {
   "cell_type": "raw",
   "id": "0da0f529",
   "metadata": {
    "id": "0da0f529"
   },
   "source": [
    "3. Take two inputs from user using two input functions add these two numbers and print the result.\n",
    "For example if a user inputs 10 in first input, 20 in second input then your output mustbe like:\n",
    "    The sum of 10 and 20 is 30\n",
    "    \n",
    "For example if a user inputs 12 in first input, 30 in second input then your output mustbe like:\n",
    "    The sum of 12 and 30 is 42\n",
    "\n",
    "For example if a user inputs 100 in first input, 200 in second input then your out put mustbe like:\n",
    "    The sum of 100 and 200 is 300"
   ]
  },
  {
   "cell_type": "code",
   "execution_count": 3,
   "id": "h8Txu6Do4kMi",
   "metadata": {
    "colab": {
     "base_uri": "https://localhost:8080/"
    },
    "id": "h8Txu6Do4kMi",
    "outputId": "6911f6d0-1595-4ec8-fe02-253966e9bb79"
   },
   "outputs": [
    {
     "name": "stdout",
     "output_type": "stream",
     "text": [
      "Enter First Number12\n",
      "Enter Second Number30\n",
      "User inputs 12 in first input, 30 in second input then your output mustbe like: The sum of 12 and  30 is 42\n"
     ]
    }
   ],
   "source": [
    "First_Number = int(input(\"Enter First Number : \"))\n",
    "Second_Number = int(input(\"Enter Second Number : \"))\n",
    "print(f'''User inputs {First_Number} in first input, {Second_Number} in second input then your output mustbe like: The sum of {First_Number} and  {Second_Number} is {First_Number + Second_Number}''')"
   ]
  },
  {
   "cell_type": "raw",
   "id": "f957eb50",
   "metadata": {
    "id": "f957eb50"
   },
   "source": [
    "4. Format a string to display a card like string:\n",
    "    \n",
    "            Presidential Initiative for AI & Computing\n",
    "                          ID CARD\n",
    "            Student Name   : Asad Ali\n",
    "            Father Name    : Amjad Ali\n",
    "            Date of Birth  : 01-01-2000\n",
    "            Course Enrolled: Artificial Intelligence\n",
    "            Batch          : 2022\n",
    "            Day            : Saturday \n",
    "            Centre         : Sir Syed University of Engg and Technology\n",
    "                \n",
    "Note: all the field values must be taken as user inputs and stored in variable"
   ]
  },
  {
   "cell_type": "code",
   "execution_count": 3,
   "id": "0f2d4d2d",
   "metadata": {
    "colab": {
     "base_uri": "https://localhost:8080/"
    },
    "id": "0f2d4d2d",
    "outputId": "34b7243c-efa9-47ce-983c-3cbfbe43d595"
   },
   "outputs": [
    {
     "name": "stdout",
     "output_type": "stream",
     "text": [
      "Enter Student Name : Essa Ahmed\n",
      "Enter Father Name : Imran Ahmed\n",
      "Enter Date of Birth : 05-09-2002\n",
      "Enter Course Enrolled : AI\n",
      "Enter Batch No : 2022\n",
      "Enter Day : Saturday\n",
      "Enter Day Center Name : Sir Syed University\n",
      "\n",
      "        Presidential Initiative for AI & Computing\n",
      "                   ID CARD\n",
      "        Student Name   : Essa Ahmed\n",
      "        Father Name    : Imran Ahmed\n",
      "        Date of Birth  : 05-09-2002\n",
      "        Course Enrolled: AI\n",
      "        Batch          : 2022\n",
      "        Day            : Saturday\n",
      "        Centre         : Sir Syed University\n",
      "      \n"
     ]
    }
   ],
   "source": [
    "Student_Name = input(\"Enter Student Name : \")\n",
    "Father_Name = input(\"Enter Father Name : \")\n",
    "Date_of_Birth = input(\"Enter Date of Birth : \")\n",
    "Course_Enrolled = input(\"Enter Course Enrolled : \")\n",
    "Batch = input(\"Enter Batch No : \")\n",
    "Day = input(\"Enter Day : \")\n",
    "Center = input(\"Enter Day Center Name : \")\n",
    "\n",
    "print(f'''\n",
    "        Presidential Initiative for AI & Computing\n",
    "                   ID CARD\n",
    "        Student Name   : {Student_Name}\n",
    "        Father Name    : {Father_Name}\n",
    "        Date of Birth  : {Date_of_Birth}\n",
    "        Course Enrolled: {Course_Enrolled}\n",
    "        Batch          : {Batch}\n",
    "        Day            : {Day}\n",
    "        Centre         : {Center}\n",
    "      ''')"
   ]
  },
  {
   "cell_type": "code",
   "execution_count": null,
   "id": "68280ecc",
   "metadata": {},
   "outputs": [],
   "source": []
  }
 ],
 "metadata": {
  "colab": {
   "collapsed_sections": [],
   "name": "Class2 Practice Asignment.ipynb",
   "provenance": []
  },
  "kernelspec": {
   "display_name": "Python 3 (ipykernel)",
   "language": "python",
   "name": "python3"
  },
  "language_info": {
   "codemirror_mode": {
    "name": "ipython",
    "version": 3
   },
   "file_extension": ".py",
   "mimetype": "text/x-python",
   "name": "python",
   "nbconvert_exporter": "python",
   "pygments_lexer": "ipython3",
   "version": "3.10.4"
  }
 },
 "nbformat": 4,
 "nbformat_minor": 5
}
